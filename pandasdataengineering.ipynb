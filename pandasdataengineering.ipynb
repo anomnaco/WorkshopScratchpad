{
 "metadata": {
  "language_info": {
   "codemirror_mode": {
    "name": "ipython",
    "version": 3
   },
   "file_extension": ".py",
   "mimetype": "text/x-python",
   "name": "python",
   "nbconvert_exporter": "python",
   "pygments_lexer": "ipython3",
   "version": "3.8.8-final"
  },
  "orig_nbformat": 2,
  "kernelspec": {
   "name": "python38864bit388pyenve3b0c0bf5e2a4bf9962044d1745bed34",
   "display_name": "Python 3.8.8 64-bit ('3.8.8': pyenv)"
  }
 },
 "nbformat": 4,
 "nbformat_minor": 2,
 "cells": [
  {
   "source": [
    "%matplotlib inline"
   ],
   "cell_type": "code",
   "metadata": {},
   "execution_count": 1,
   "outputs": []
  },
  {
   "cell_type": "code",
   "execution_count": 37,
   "metadata": {
    "tags": []
   },
   "outputs": [
    {
     "output_type": "stream",
     "name": "stdout",
     "text": "Collecting imgkit\n  Downloading imgkit-1.2.2-py3-none-any.whl (10 kB)\nRequirement already satisfied: six in /home/gitpod/.pyenv/versions/3.8.8/lib/python3.8/site-packages (from imgkit) (1.15.0)\nInstalling collected packages: imgkit\nSuccessfully installed imgkit-1.2.2\n\u001b[33mWARNING: You are using pip version 21.0.1; however, version 21.1.1 is available.\nYou should consider upgrading via the '/home/gitpod/.pyenv/versions/3.8.8/bin/python -m pip install --upgrade pip' command.\u001b[0m\n"
    }
   ],
   "source": [
    "import sys\n",
    "!{sys.executable} -m pip install imgkit"
   ]
  },
  {
   "cell_type": "code",
   "execution_count": 38,
   "metadata": {},
   "outputs": [],
   "source": [
    "import pandas as pd\n",
    "import matplotlib.pyplot as plt\n",
    "import seaborn as sns\n",
    "import numpy as np\n",
    "import imgkit"
   ]
  },
  {
   "cell_type": "code",
   "execution_count": 4,
   "metadata": {},
   "outputs": [
    {
     "output_type": "execute_result",
     "data": {
      "text/plain": "   timesPregnant  plasmaGlucose  bloodPressure  tricepThickness  serumInsulin  \\\n0              6            148             72               35             0   \n1              1             85             66               29             0   \n2              8            183             64                0             0   \n3              1             89             66               23            94   \n4              0            137             40               35           168   \n\n    bmi  diabetesPedegree  age  label  \n0  33.6             0.627   50      1  \n1  26.6             0.351   31      0  \n2  23.3             0.672   32      1  \n3  28.1             0.167   21      0  \n4  43.1             2.288   33      1  ",
      "text/html": "<div>\n<style scoped>\n    .dataframe tbody tr th:only-of-type {\n        vertical-align: middle;\n    }\n\n    .dataframe tbody tr th {\n        vertical-align: top;\n    }\n\n    .dataframe thead th {\n        text-align: right;\n    }\n</style>\n<table border=\"1\" class=\"dataframe\">\n  <thead>\n    <tr style=\"text-align: right;\">\n      <th></th>\n      <th>timesPregnant</th>\n      <th>plasmaGlucose</th>\n      <th>bloodPressure</th>\n      <th>tricepThickness</th>\n      <th>serumInsulin</th>\n      <th>bmi</th>\n      <th>diabetesPedegree</th>\n      <th>age</th>\n      <th>label</th>\n    </tr>\n  </thead>\n  <tbody>\n    <tr>\n      <th>0</th>\n      <td>6</td>\n      <td>148</td>\n      <td>72</td>\n      <td>35</td>\n      <td>0</td>\n      <td>33.6</td>\n      <td>0.627</td>\n      <td>50</td>\n      <td>1</td>\n    </tr>\n    <tr>\n      <th>1</th>\n      <td>1</td>\n      <td>85</td>\n      <td>66</td>\n      <td>29</td>\n      <td>0</td>\n      <td>26.6</td>\n      <td>0.351</td>\n      <td>31</td>\n      <td>0</td>\n    </tr>\n    <tr>\n      <th>2</th>\n      <td>8</td>\n      <td>183</td>\n      <td>64</td>\n      <td>0</td>\n      <td>0</td>\n      <td>23.3</td>\n      <td>0.672</td>\n      <td>32</td>\n      <td>1</td>\n    </tr>\n    <tr>\n      <th>3</th>\n      <td>1</td>\n      <td>89</td>\n      <td>66</td>\n      <td>23</td>\n      <td>94</td>\n      <td>28.1</td>\n      <td>0.167</td>\n      <td>21</td>\n      <td>0</td>\n    </tr>\n    <tr>\n      <th>4</th>\n      <td>0</td>\n      <td>137</td>\n      <td>40</td>\n      <td>35</td>\n      <td>168</td>\n      <td>43.1</td>\n      <td>2.288</td>\n      <td>33</td>\n      <td>1</td>\n    </tr>\n  </tbody>\n</table>\n</div>"
     },
     "metadata": {},
     "execution_count": 4
    }
   ],
   "source": [
    "diabetesDF = pd.read_csv(\"/workspace/WorkshopScratchpad/pima-indians-diabetes.csv\", names=[\"timesPregnant\", \"plasmaGlucose\", \"bloodPressure\", \"tricepThickness\", \"serumInsulin\", \"bmi\", \"diabetesPedegree\", \"age\", \"label\"],header=None)\n",
    "diabetesDF.head(5)"
   ]
  },
  {
   "cell_type": "code",
   "execution_count": 21,
   "metadata": {},
   "outputs": [
    {
     "output_type": "execute_result",
     "data": {
      "text/plain": "timesPregnant       768\nplasmaGlucose       763\nbloodPressure       733\ntricepThickness     541\nserumInsulin        394\nbmi                 757\ndiabetesPedegree    768\nage                 768\nlabel               768\ndtype: int64"
     },
     "metadata": {},
     "execution_count": 21
    }
   ],
   "source": [
    "diabetesDF.count()"
   ]
  },
  {
   "cell_type": "code",
   "execution_count": 5,
   "metadata": {},
   "outputs": [
    {
     "output_type": "display_data",
     "data": {
      "text/plain": "<Figure size 432x288 with 1 Axes>",
      "image/svg+xml": "<?xml version=\"1.0\" encoding=\"utf-8\" standalone=\"no\"?>\n<!DOCTYPE svg PUBLIC \"-//W3C//DTD SVG 1.1//EN\"\n  \"http://www.w3.org/Graphics/SVG/1.1/DTD/svg11.dtd\">\n<svg height=\"262.19625pt\" version=\"1.1\" viewBox=\"0 0 376.240625 262.19625\" width=\"376.240625pt\" xmlns=\"http://www.w3.org/2000/svg\" xmlns:xlink=\"http://www.w3.org/1999/xlink\">\n <metadata>\n  <rdf:RDF xmlns:cc=\"http://creativecommons.org/ns#\" xmlns:dc=\"http://purl.org/dc/elements/1.1/\" xmlns:rdf=\"http://www.w3.org/1999/02/22-rdf-syntax-ns#\">\n   <cc:Work>\n    <dc:type rdf:resource=\"http://purl.org/dc/dcmitype/StillImage\"/>\n    <dc:date>2021-05-17T12:32:45.942659</dc:date>\n    <dc:format>image/svg+xml</dc:format>\n    <dc:creator>\n     <cc:Agent>\n      <dc:title>Matplotlib v3.4.2, https://matplotlib.org/</dc:title>\n     </cc:Agent>\n    </dc:creator>\n   </cc:Work>\n  </rdf:RDF>\n </metadata>\n <defs>\n  <style type=\"text/css\">*{stroke-linecap:butt;stroke-linejoin:round;}</style>\n </defs>\n <g id=\"figure_1\">\n  <g id=\"patch_1\">\n   <path d=\"M 0 262.19625 \nL 376.240625 262.19625 \nL 376.240625 0 \nL 0 0 \nz\n\" style=\"fill:none;\"/>\n  </g>\n  <g id=\"axes_1\">\n   <g id=\"patch_2\">\n    <path d=\"M 34.240625 224.64 \nL 369.040625 224.64 \nL 369.040625 7.2 \nL 34.240625 7.2 \nz\n\" style=\"fill:#ffffff;\"/>\n   </g>\n   <g id=\"patch_3\">\n    <path clip-path=\"url(#p6a3af73f7f)\" d=\"M 34.240625 18.072 \nL 353.097768 18.072 \nL 353.097768 105.048 \nL 34.240625 105.048 \nz\n\" style=\"fill:#3274a1;\"/>\n   </g>\n   <g id=\"patch_4\">\n    <path clip-path=\"url(#p6a3af73f7f)\" d=\"M 34.240625 126.792 \nL 205.148054 126.792 \nL 205.148054 213.768 \nL 34.240625 213.768 \nz\n\" style=\"fill:#e1812c;\"/>\n   </g>\n   <g id=\"matplotlib.axis_1\">\n    <g id=\"xtick_1\">\n     <g id=\"line2d_1\">\n      <defs>\n       <path d=\"M 0 0 \nL 0 3.5 \n\" id=\"m9f5c5abb4f\" style=\"stroke:#000000;stroke-width:0.8;\"/>\n      </defs>\n      <g>\n       <use style=\"stroke:#000000;stroke-width:0.8;\" x=\"34.240625\" xlink:href=\"#m9f5c5abb4f\" y=\"224.64\"/>\n      </g>\n     </g>\n     <g id=\"text_1\">\n      <!-- 0 -->\n      <g transform=\"translate(31.059375 239.238437)scale(0.1 -0.1)\">\n       <defs>\n        <path d=\"M 2034 4250 \nQ 1547 4250 1301 3770 \nQ 1056 3291 1056 2328 \nQ 1056 1369 1301 889 \nQ 1547 409 2034 409 \nQ 2525 409 2770 889 \nQ 3016 1369 3016 2328 \nQ 3016 3291 2770 3770 \nQ 2525 4250 2034 4250 \nz\nM 2034 4750 \nQ 2819 4750 3233 4129 \nQ 3647 3509 3647 2328 \nQ 3647 1150 3233 529 \nQ 2819 -91 2034 -91 \nQ 1250 -91 836 529 \nQ 422 1150 422 2328 \nQ 422 3509 836 4129 \nQ 1250 4750 2034 4750 \nz\n\" id=\"DejaVuSans-30\" transform=\"scale(0.015625)\"/>\n       </defs>\n       <use xlink:href=\"#DejaVuSans-30\"/>\n      </g>\n     </g>\n    </g>\n    <g id=\"xtick_2\">\n     <g id=\"line2d_2\">\n      <g>\n       <use style=\"stroke:#000000;stroke-width:0.8;\" x=\"98.012054\" xlink:href=\"#m9f5c5abb4f\" y=\"224.64\"/>\n      </g>\n     </g>\n     <g id=\"text_2\">\n      <!-- 100 -->\n      <g transform=\"translate(88.468304 239.238437)scale(0.1 -0.1)\">\n       <defs>\n        <path d=\"M 794 531 \nL 1825 531 \nL 1825 4091 \nL 703 3866 \nL 703 4441 \nL 1819 4666 \nL 2450 4666 \nL 2450 531 \nL 3481 531 \nL 3481 0 \nL 794 0 \nL 794 531 \nz\n\" id=\"DejaVuSans-31\" transform=\"scale(0.015625)\"/>\n       </defs>\n       <use xlink:href=\"#DejaVuSans-31\"/>\n       <use x=\"63.623047\" xlink:href=\"#DejaVuSans-30\"/>\n       <use x=\"127.246094\" xlink:href=\"#DejaVuSans-30\"/>\n      </g>\n     </g>\n    </g>\n    <g id=\"xtick_3\">\n     <g id=\"line2d_3\">\n      <g>\n       <use style=\"stroke:#000000;stroke-width:0.8;\" x=\"161.783482\" xlink:href=\"#m9f5c5abb4f\" y=\"224.64\"/>\n      </g>\n     </g>\n     <g id=\"text_3\">\n      <!-- 200 -->\n      <g transform=\"translate(152.239732 239.238437)scale(0.1 -0.1)\">\n       <defs>\n        <path d=\"M 1228 531 \nL 3431 531 \nL 3431 0 \nL 469 0 \nL 469 531 \nQ 828 903 1448 1529 \nQ 2069 2156 2228 2338 \nQ 2531 2678 2651 2914 \nQ 2772 3150 2772 3378 \nQ 2772 3750 2511 3984 \nQ 2250 4219 1831 4219 \nQ 1534 4219 1204 4116 \nQ 875 4013 500 3803 \nL 500 4441 \nQ 881 4594 1212 4672 \nQ 1544 4750 1819 4750 \nQ 2544 4750 2975 4387 \nQ 3406 4025 3406 3419 \nQ 3406 3131 3298 2873 \nQ 3191 2616 2906 2266 \nQ 2828 2175 2409 1742 \nQ 1991 1309 1228 531 \nz\n\" id=\"DejaVuSans-32\" transform=\"scale(0.015625)\"/>\n       </defs>\n       <use xlink:href=\"#DejaVuSans-32\"/>\n       <use x=\"63.623047\" xlink:href=\"#DejaVuSans-30\"/>\n       <use x=\"127.246094\" xlink:href=\"#DejaVuSans-30\"/>\n      </g>\n     </g>\n    </g>\n    <g id=\"xtick_4\">\n     <g id=\"line2d_4\">\n      <g>\n       <use style=\"stroke:#000000;stroke-width:0.8;\" x=\"225.554911\" xlink:href=\"#m9f5c5abb4f\" y=\"224.64\"/>\n      </g>\n     </g>\n     <g id=\"text_4\">\n      <!-- 300 -->\n      <g transform=\"translate(216.011161 239.238437)scale(0.1 -0.1)\">\n       <defs>\n        <path d=\"M 2597 2516 \nQ 3050 2419 3304 2112 \nQ 3559 1806 3559 1356 \nQ 3559 666 3084 287 \nQ 2609 -91 1734 -91 \nQ 1441 -91 1130 -33 \nQ 819 25 488 141 \nL 488 750 \nQ 750 597 1062 519 \nQ 1375 441 1716 441 \nQ 2309 441 2620 675 \nQ 2931 909 2931 1356 \nQ 2931 1769 2642 2001 \nQ 2353 2234 1838 2234 \nL 1294 2234 \nL 1294 2753 \nL 1863 2753 \nQ 2328 2753 2575 2939 \nQ 2822 3125 2822 3475 \nQ 2822 3834 2567 4026 \nQ 2313 4219 1838 4219 \nQ 1578 4219 1281 4162 \nQ 984 4106 628 3988 \nL 628 4550 \nQ 988 4650 1302 4700 \nQ 1616 4750 1894 4750 \nQ 2613 4750 3031 4423 \nQ 3450 4097 3450 3541 \nQ 3450 3153 3228 2886 \nQ 3006 2619 2597 2516 \nz\n\" id=\"DejaVuSans-33\" transform=\"scale(0.015625)\"/>\n       </defs>\n       <use xlink:href=\"#DejaVuSans-33\"/>\n       <use x=\"63.623047\" xlink:href=\"#DejaVuSans-30\"/>\n       <use x=\"127.246094\" xlink:href=\"#DejaVuSans-30\"/>\n      </g>\n     </g>\n    </g>\n    <g id=\"xtick_5\">\n     <g id=\"line2d_5\">\n      <g>\n       <use style=\"stroke:#000000;stroke-width:0.8;\" x=\"289.326339\" xlink:href=\"#m9f5c5abb4f\" y=\"224.64\"/>\n      </g>\n     </g>\n     <g id=\"text_5\">\n      <!-- 400 -->\n      <g transform=\"translate(279.782589 239.238437)scale(0.1 -0.1)\">\n       <defs>\n        <path d=\"M 2419 4116 \nL 825 1625 \nL 2419 1625 \nL 2419 4116 \nz\nM 2253 4666 \nL 3047 4666 \nL 3047 1625 \nL 3713 1625 \nL 3713 1100 \nL 3047 1100 \nL 3047 0 \nL 2419 0 \nL 2419 1100 \nL 313 1100 \nL 313 1709 \nL 2253 4666 \nz\n\" id=\"DejaVuSans-34\" transform=\"scale(0.015625)\"/>\n       </defs>\n       <use xlink:href=\"#DejaVuSans-34\"/>\n       <use x=\"63.623047\" xlink:href=\"#DejaVuSans-30\"/>\n       <use x=\"127.246094\" xlink:href=\"#DejaVuSans-30\"/>\n      </g>\n     </g>\n    </g>\n    <g id=\"xtick_6\">\n     <g id=\"line2d_6\">\n      <g>\n       <use style=\"stroke:#000000;stroke-width:0.8;\" x=\"353.097768\" xlink:href=\"#m9f5c5abb4f\" y=\"224.64\"/>\n      </g>\n     </g>\n     <g id=\"text_6\">\n      <!-- 500 -->\n      <g transform=\"translate(343.554018 239.238437)scale(0.1 -0.1)\">\n       <defs>\n        <path d=\"M 691 4666 \nL 3169 4666 \nL 3169 4134 \nL 1269 4134 \nL 1269 2991 \nQ 1406 3038 1543 3061 \nQ 1681 3084 1819 3084 \nQ 2600 3084 3056 2656 \nQ 3513 2228 3513 1497 \nQ 3513 744 3044 326 \nQ 2575 -91 1722 -91 \nQ 1428 -91 1123 -41 \nQ 819 9 494 109 \nL 494 744 \nQ 775 591 1075 516 \nQ 1375 441 1709 441 \nQ 2250 441 2565 725 \nQ 2881 1009 2881 1497 \nQ 2881 1984 2565 2268 \nQ 2250 2553 1709 2553 \nQ 1456 2553 1204 2497 \nQ 953 2441 691 2322 \nL 691 4666 \nz\n\" id=\"DejaVuSans-35\" transform=\"scale(0.015625)\"/>\n       </defs>\n       <use xlink:href=\"#DejaVuSans-35\"/>\n       <use x=\"63.623047\" xlink:href=\"#DejaVuSans-30\"/>\n       <use x=\"127.246094\" xlink:href=\"#DejaVuSans-30\"/>\n      </g>\n     </g>\n    </g>\n    <g id=\"text_7\">\n     <!-- Count of each Target class -->\n     <g transform=\"translate(135.674219 252.916562)scale(0.1 -0.1)\">\n      <defs>\n       <path d=\"M 4122 4306 \nL 4122 3641 \nQ 3803 3938 3442 4084 \nQ 3081 4231 2675 4231 \nQ 1875 4231 1450 3742 \nQ 1025 3253 1025 2328 \nQ 1025 1406 1450 917 \nQ 1875 428 2675 428 \nQ 3081 428 3442 575 \nQ 3803 722 4122 1019 \nL 4122 359 \nQ 3791 134 3420 21 \nQ 3050 -91 2638 -91 \nQ 1578 -91 968 557 \nQ 359 1206 359 2328 \nQ 359 3453 968 4101 \nQ 1578 4750 2638 4750 \nQ 3056 4750 3426 4639 \nQ 3797 4528 4122 4306 \nz\n\" id=\"DejaVuSans-43\" transform=\"scale(0.015625)\"/>\n       <path d=\"M 1959 3097 \nQ 1497 3097 1228 2736 \nQ 959 2375 959 1747 \nQ 959 1119 1226 758 \nQ 1494 397 1959 397 \nQ 2419 397 2687 759 \nQ 2956 1122 2956 1747 \nQ 2956 2369 2687 2733 \nQ 2419 3097 1959 3097 \nz\nM 1959 3584 \nQ 2709 3584 3137 3096 \nQ 3566 2609 3566 1747 \nQ 3566 888 3137 398 \nQ 2709 -91 1959 -91 \nQ 1206 -91 779 398 \nQ 353 888 353 1747 \nQ 353 2609 779 3096 \nQ 1206 3584 1959 3584 \nz\n\" id=\"DejaVuSans-6f\" transform=\"scale(0.015625)\"/>\n       <path d=\"M 544 1381 \nL 544 3500 \nL 1119 3500 \nL 1119 1403 \nQ 1119 906 1312 657 \nQ 1506 409 1894 409 \nQ 2359 409 2629 706 \nQ 2900 1003 2900 1516 \nL 2900 3500 \nL 3475 3500 \nL 3475 0 \nL 2900 0 \nL 2900 538 \nQ 2691 219 2414 64 \nQ 2138 -91 1772 -91 \nQ 1169 -91 856 284 \nQ 544 659 544 1381 \nz\nM 1991 3584 \nL 1991 3584 \nz\n\" id=\"DejaVuSans-75\" transform=\"scale(0.015625)\"/>\n       <path d=\"M 3513 2113 \nL 3513 0 \nL 2938 0 \nL 2938 2094 \nQ 2938 2591 2744 2837 \nQ 2550 3084 2163 3084 \nQ 1697 3084 1428 2787 \nQ 1159 2491 1159 1978 \nL 1159 0 \nL 581 0 \nL 581 3500 \nL 1159 3500 \nL 1159 2956 \nQ 1366 3272 1645 3428 \nQ 1925 3584 2291 3584 \nQ 2894 3584 3203 3211 \nQ 3513 2838 3513 2113 \nz\n\" id=\"DejaVuSans-6e\" transform=\"scale(0.015625)\"/>\n       <path d=\"M 1172 4494 \nL 1172 3500 \nL 2356 3500 \nL 2356 3053 \nL 1172 3053 \nL 1172 1153 \nQ 1172 725 1289 603 \nQ 1406 481 1766 481 \nL 2356 481 \nL 2356 0 \nL 1766 0 \nQ 1100 0 847 248 \nQ 594 497 594 1153 \nL 594 3053 \nL 172 3053 \nL 172 3500 \nL 594 3500 \nL 594 4494 \nL 1172 4494 \nz\n\" id=\"DejaVuSans-74\" transform=\"scale(0.015625)\"/>\n       <path id=\"DejaVuSans-20\" transform=\"scale(0.015625)\"/>\n       <path d=\"M 2375 4863 \nL 2375 4384 \nL 1825 4384 \nQ 1516 4384 1395 4259 \nQ 1275 4134 1275 3809 \nL 1275 3500 \nL 2222 3500 \nL 2222 3053 \nL 1275 3053 \nL 1275 0 \nL 697 0 \nL 697 3053 \nL 147 3053 \nL 147 3500 \nL 697 3500 \nL 697 3744 \nQ 697 4328 969 4595 \nQ 1241 4863 1831 4863 \nL 2375 4863 \nz\n\" id=\"DejaVuSans-66\" transform=\"scale(0.015625)\"/>\n       <path d=\"M 3597 1894 \nL 3597 1613 \nL 953 1613 \nQ 991 1019 1311 708 \nQ 1631 397 2203 397 \nQ 2534 397 2845 478 \nQ 3156 559 3463 722 \nL 3463 178 \nQ 3153 47 2828 -22 \nQ 2503 -91 2169 -91 \nQ 1331 -91 842 396 \nQ 353 884 353 1716 \nQ 353 2575 817 3079 \nQ 1281 3584 2069 3584 \nQ 2775 3584 3186 3129 \nQ 3597 2675 3597 1894 \nz\nM 3022 2063 \nQ 3016 2534 2758 2815 \nQ 2500 3097 2075 3097 \nQ 1594 3097 1305 2825 \nQ 1016 2553 972 2059 \nL 3022 2063 \nz\n\" id=\"DejaVuSans-65\" transform=\"scale(0.015625)\"/>\n       <path d=\"M 2194 1759 \nQ 1497 1759 1228 1600 \nQ 959 1441 959 1056 \nQ 959 750 1161 570 \nQ 1363 391 1709 391 \nQ 2188 391 2477 730 \nQ 2766 1069 2766 1631 \nL 2766 1759 \nL 2194 1759 \nz\nM 3341 1997 \nL 3341 0 \nL 2766 0 \nL 2766 531 \nQ 2569 213 2275 61 \nQ 1981 -91 1556 -91 \nQ 1019 -91 701 211 \nQ 384 513 384 1019 \nQ 384 1609 779 1909 \nQ 1175 2209 1959 2209 \nL 2766 2209 \nL 2766 2266 \nQ 2766 2663 2505 2880 \nQ 2244 3097 1772 3097 \nQ 1472 3097 1187 3025 \nQ 903 2953 641 2809 \nL 641 3341 \nQ 956 3463 1253 3523 \nQ 1550 3584 1831 3584 \nQ 2591 3584 2966 3190 \nQ 3341 2797 3341 1997 \nz\n\" id=\"DejaVuSans-61\" transform=\"scale(0.015625)\"/>\n       <path d=\"M 3122 3366 \nL 3122 2828 \nQ 2878 2963 2633 3030 \nQ 2388 3097 2138 3097 \nQ 1578 3097 1268 2742 \nQ 959 2388 959 1747 \nQ 959 1106 1268 751 \nQ 1578 397 2138 397 \nQ 2388 397 2633 464 \nQ 2878 531 3122 666 \nL 3122 134 \nQ 2881 22 2623 -34 \nQ 2366 -91 2075 -91 \nQ 1284 -91 818 406 \nQ 353 903 353 1747 \nQ 353 2603 823 3093 \nQ 1294 3584 2113 3584 \nQ 2378 3584 2631 3529 \nQ 2884 3475 3122 3366 \nz\n\" id=\"DejaVuSans-63\" transform=\"scale(0.015625)\"/>\n       <path d=\"M 3513 2113 \nL 3513 0 \nL 2938 0 \nL 2938 2094 \nQ 2938 2591 2744 2837 \nQ 2550 3084 2163 3084 \nQ 1697 3084 1428 2787 \nQ 1159 2491 1159 1978 \nL 1159 0 \nL 581 0 \nL 581 4863 \nL 1159 4863 \nL 1159 2956 \nQ 1366 3272 1645 3428 \nQ 1925 3584 2291 3584 \nQ 2894 3584 3203 3211 \nQ 3513 2838 3513 2113 \nz\n\" id=\"DejaVuSans-68\" transform=\"scale(0.015625)\"/>\n       <path d=\"M -19 4666 \nL 3928 4666 \nL 3928 4134 \nL 2272 4134 \nL 2272 0 \nL 1638 0 \nL 1638 4134 \nL -19 4134 \nL -19 4666 \nz\n\" id=\"DejaVuSans-54\" transform=\"scale(0.015625)\"/>\n       <path d=\"M 2631 2963 \nQ 2534 3019 2420 3045 \nQ 2306 3072 2169 3072 \nQ 1681 3072 1420 2755 \nQ 1159 2438 1159 1844 \nL 1159 0 \nL 581 0 \nL 581 3500 \nL 1159 3500 \nL 1159 2956 \nQ 1341 3275 1631 3429 \nQ 1922 3584 2338 3584 \nQ 2397 3584 2469 3576 \nQ 2541 3569 2628 3553 \nL 2631 2963 \nz\n\" id=\"DejaVuSans-72\" transform=\"scale(0.015625)\"/>\n       <path d=\"M 2906 1791 \nQ 2906 2416 2648 2759 \nQ 2391 3103 1925 3103 \nQ 1463 3103 1205 2759 \nQ 947 2416 947 1791 \nQ 947 1169 1205 825 \nQ 1463 481 1925 481 \nQ 2391 481 2648 825 \nQ 2906 1169 2906 1791 \nz\nM 3481 434 \nQ 3481 -459 3084 -895 \nQ 2688 -1331 1869 -1331 \nQ 1566 -1331 1297 -1286 \nQ 1028 -1241 775 -1147 \nL 775 -588 \nQ 1028 -725 1275 -790 \nQ 1522 -856 1778 -856 \nQ 2344 -856 2625 -561 \nQ 2906 -266 2906 331 \nL 2906 616 \nQ 2728 306 2450 153 \nQ 2172 0 1784 0 \nQ 1141 0 747 490 \nQ 353 981 353 1791 \nQ 353 2603 747 3093 \nQ 1141 3584 1784 3584 \nQ 2172 3584 2450 3431 \nQ 2728 3278 2906 2969 \nL 2906 3500 \nL 3481 3500 \nL 3481 434 \nz\n\" id=\"DejaVuSans-67\" transform=\"scale(0.015625)\"/>\n       <path d=\"M 603 4863 \nL 1178 4863 \nL 1178 0 \nL 603 0 \nL 603 4863 \nz\n\" id=\"DejaVuSans-6c\" transform=\"scale(0.015625)\"/>\n       <path d=\"M 2834 3397 \nL 2834 2853 \nQ 2591 2978 2328 3040 \nQ 2066 3103 1784 3103 \nQ 1356 3103 1142 2972 \nQ 928 2841 928 2578 \nQ 928 2378 1081 2264 \nQ 1234 2150 1697 2047 \nL 1894 2003 \nQ 2506 1872 2764 1633 \nQ 3022 1394 3022 966 \nQ 3022 478 2636 193 \nQ 2250 -91 1575 -91 \nQ 1294 -91 989 -36 \nQ 684 19 347 128 \nL 347 722 \nQ 666 556 975 473 \nQ 1284 391 1588 391 \nQ 1994 391 2212 530 \nQ 2431 669 2431 922 \nQ 2431 1156 2273 1281 \nQ 2116 1406 1581 1522 \nL 1381 1569 \nQ 847 1681 609 1914 \nQ 372 2147 372 2553 \nQ 372 3047 722 3315 \nQ 1072 3584 1716 3584 \nQ 2034 3584 2315 3537 \nQ 2597 3491 2834 3397 \nz\n\" id=\"DejaVuSans-73\" transform=\"scale(0.015625)\"/>\n      </defs>\n      <use xlink:href=\"#DejaVuSans-43\"/>\n      <use x=\"69.824219\" xlink:href=\"#DejaVuSans-6f\"/>\n      <use x=\"131.005859\" xlink:href=\"#DejaVuSans-75\"/>\n      <use x=\"194.384766\" xlink:href=\"#DejaVuSans-6e\"/>\n      <use x=\"257.763672\" xlink:href=\"#DejaVuSans-74\"/>\n      <use x=\"296.972656\" xlink:href=\"#DejaVuSans-20\"/>\n      <use x=\"328.759766\" xlink:href=\"#DejaVuSans-6f\"/>\n      <use x=\"389.941406\" xlink:href=\"#DejaVuSans-66\"/>\n      <use x=\"425.146484\" xlink:href=\"#DejaVuSans-20\"/>\n      <use x=\"456.933594\" xlink:href=\"#DejaVuSans-65\"/>\n      <use x=\"518.457031\" xlink:href=\"#DejaVuSans-61\"/>\n      <use x=\"579.736328\" xlink:href=\"#DejaVuSans-63\"/>\n      <use x=\"634.716797\" xlink:href=\"#DejaVuSans-68\"/>\n      <use x=\"698.095703\" xlink:href=\"#DejaVuSans-20\"/>\n      <use x=\"729.882812\" xlink:href=\"#DejaVuSans-54\"/>\n      <use x=\"774.466797\" xlink:href=\"#DejaVuSans-61\"/>\n      <use x=\"835.746094\" xlink:href=\"#DejaVuSans-72\"/>\n      <use x=\"875.109375\" xlink:href=\"#DejaVuSans-67\"/>\n      <use x=\"938.585938\" xlink:href=\"#DejaVuSans-65\"/>\n      <use x=\"1000.109375\" xlink:href=\"#DejaVuSans-74\"/>\n      <use x=\"1039.318359\" xlink:href=\"#DejaVuSans-20\"/>\n      <use x=\"1071.105469\" xlink:href=\"#DejaVuSans-63\"/>\n      <use x=\"1126.085938\" xlink:href=\"#DejaVuSans-6c\"/>\n      <use x=\"1153.869141\" xlink:href=\"#DejaVuSans-61\"/>\n      <use x=\"1215.148438\" xlink:href=\"#DejaVuSans-73\"/>\n      <use x=\"1267.248047\" xlink:href=\"#DejaVuSans-73\"/>\n     </g>\n    </g>\n   </g>\n   <g id=\"matplotlib.axis_2\">\n    <g id=\"ytick_1\">\n     <g id=\"line2d_7\">\n      <defs>\n       <path d=\"M 0 0 \nL -3.5 0 \n\" id=\"m2f2985bf22\" style=\"stroke:#000000;stroke-width:0.8;\"/>\n      </defs>\n      <g>\n       <use style=\"stroke:#000000;stroke-width:0.8;\" x=\"34.240625\" xlink:href=\"#m2f2985bf22\" y=\"61.56\"/>\n      </g>\n     </g>\n     <g id=\"text_8\">\n      <!-- 0 -->\n      <g transform=\"translate(20.878125 65.359219)scale(0.1 -0.1)\">\n       <use xlink:href=\"#DejaVuSans-30\"/>\n      </g>\n     </g>\n    </g>\n    <g id=\"ytick_2\">\n     <g id=\"line2d_8\">\n      <g>\n       <use style=\"stroke:#000000;stroke-width:0.8;\" x=\"34.240625\" xlink:href=\"#m2f2985bf22\" y=\"170.28\"/>\n      </g>\n     </g>\n     <g id=\"text_9\">\n      <!-- 1 -->\n      <g transform=\"translate(20.878125 174.079219)scale(0.1 -0.1)\">\n       <use xlink:href=\"#DejaVuSans-31\"/>\n      </g>\n     </g>\n    </g>\n    <g id=\"text_10\">\n     <!-- Target classes -->\n     <g transform=\"translate(14.798437 151.073906)rotate(-90)scale(0.1 -0.1)\">\n      <use xlink:href=\"#DejaVuSans-54\"/>\n      <use x=\"44.583984\" xlink:href=\"#DejaVuSans-61\"/>\n      <use x=\"105.863281\" xlink:href=\"#DejaVuSans-72\"/>\n      <use x=\"145.226562\" xlink:href=\"#DejaVuSans-67\"/>\n      <use x=\"208.703125\" xlink:href=\"#DejaVuSans-65\"/>\n      <use x=\"270.226562\" xlink:href=\"#DejaVuSans-74\"/>\n      <use x=\"309.435547\" xlink:href=\"#DejaVuSans-20\"/>\n      <use x=\"341.222656\" xlink:href=\"#DejaVuSans-63\"/>\n      <use x=\"396.203125\" xlink:href=\"#DejaVuSans-6c\"/>\n      <use x=\"423.986328\" xlink:href=\"#DejaVuSans-61\"/>\n      <use x=\"485.265625\" xlink:href=\"#DejaVuSans-73\"/>\n      <use x=\"537.365234\" xlink:href=\"#DejaVuSans-73\"/>\n      <use x=\"589.464844\" xlink:href=\"#DejaVuSans-65\"/>\n      <use x=\"650.988281\" xlink:href=\"#DejaVuSans-73\"/>\n     </g>\n    </g>\n   </g>\n   <g id=\"patch_5\">\n    <path d=\"M 34.240625 224.64 \nL 34.240625 7.2 \n\" style=\"fill:none;stroke:#000000;stroke-linecap:square;stroke-linejoin:miter;stroke-width:0.8;\"/>\n   </g>\n   <g id=\"patch_6\">\n    <path d=\"M 369.040625 224.64 \nL 369.040625 7.2 \n\" style=\"fill:none;stroke:#000000;stroke-linecap:square;stroke-linejoin:miter;stroke-width:0.8;\"/>\n   </g>\n   <g id=\"patch_7\">\n    <path d=\"M 34.240625 224.64 \nL 369.040625 224.64 \n\" style=\"fill:none;stroke:#000000;stroke-linecap:square;stroke-linejoin:miter;stroke-width:0.8;\"/>\n   </g>\n   <g id=\"patch_8\">\n    <path d=\"M 34.240625 7.2 \nL 369.040625 7.2 \n\" style=\"fill:none;stroke:#000000;stroke-linecap:square;stroke-linejoin:miter;stroke-width:0.8;\"/>\n   </g>\n  </g>\n </g>\n <defs>\n  <clipPath id=\"p6a3af73f7f\">\n   <rect height=\"217.44\" width=\"334.8\" x=\"34.240625\" y=\"7.2\"/>\n  </clipPath>\n </defs>\n</svg>\n",
      "image/png": "[encoded data removed]"
     },
     "metadata": {
      "needs_background": "light"
     }
    }
   ],
   "source": [
    "sns.countplot(y=diabetesDF[\"label\"])\n",
    "plt.xlabel(\"Count of each Target class\")\n",
    "plt.ylabel(\"Target classes\")\n",
    "plt.show()"
   ]
  },
  {
   "cell_type": "code",
   "execution_count": 11,
   "metadata": {},
   "outputs": [
    {
     "output_type": "execute_result",
     "data": {
      "text/plain": "35"
     },
     "metadata": {},
     "execution_count": 11
    }
   ],
   "source": [
    "diabetesDF['bloodPressure'].value_counts()[0]"
   ]
  },
  {
   "cell_type": "code",
   "execution_count": 19,
   "metadata": {},
   "outputs": [
    {
     "output_type": "execute_result",
     "data": {
      "text/plain": "timesPregnant       111\nplasmaGlucose         0\nbloodPressure         0\ntricepThickness       0\nserumInsulin          0\nbmi                   0\ndiabetesPedegree      0\nage                   0\nlabel               500\ndtype: int64"
     },
     "metadata": {},
     "execution_count": 19
    }
   ],
   "source": [
    "diabetesDF.isin([0]).sum()"
   ]
  },
  {
   "cell_type": "code",
   "execution_count": 16,
   "metadata": {},
   "outputs": [
    {
     "output_type": "execute_result",
     "data": {
      "text/plain": "    timesPregnant  plasmaGlucose  bloodPressure  tricepThickness  \\\n0               6          148.0           72.0             35.0   \n1               1           85.0           66.0             29.0   \n2               8          183.0           64.0              NaN   \n3               1           89.0           66.0             23.0   \n4               0          137.0           40.0             35.0   \n5               5          116.0           74.0              NaN   \n6               3           78.0           50.0             32.0   \n7              10          115.0            NaN              NaN   \n8               2          197.0           70.0             45.0   \n9               8          125.0           96.0              NaN   \n10              4          110.0           92.0              NaN   \n11             10          168.0           74.0              NaN   \n12             10          139.0           80.0              NaN   \n13              1          189.0           60.0             23.0   \n14              5          166.0           72.0             19.0   \n15              7          100.0            NaN              NaN   \n16              0          118.0           84.0             47.0   \n17              7          107.0           74.0              NaN   \n18              1          103.0           30.0             38.0   \n19              1          115.0           70.0             30.0   \n\n    serumInsulin   bmi  diabetesPedegree  age  label  \n0            NaN  33.6             0.627   50      1  \n1            NaN  26.6             0.351   31      0  \n2            NaN  23.3             0.672   32      1  \n3           94.0  28.1             0.167   21      0  \n4          168.0  43.1             2.288   33      1  \n5            NaN  25.6             0.201   30      0  \n6           88.0  31.0             0.248   26      1  \n7            NaN  35.3             0.134   29      0  \n8          543.0  30.5             0.158   53      1  \n9            NaN   NaN             0.232   54      1  \n10           NaN  37.6             0.191   30      0  \n11           NaN  38.0             0.537   34      1  \n12           NaN  27.1             1.441   57      0  \n13         846.0  30.1             0.398   59      1  \n14         175.0  25.8             0.587   51      1  \n15           NaN  30.0             0.484   32      1  \n16         230.0  45.8             0.551   31      1  \n17           NaN  29.6             0.254   31      1  \n18          83.0  43.3             0.183   33      0  \n19          96.0  34.6             0.529   32      1  ",
      "text/html": "<div>\n<style scoped>\n    .dataframe tbody tr th:only-of-type {\n        vertical-align: middle;\n    }\n\n    .dataframe tbody tr th {\n        vertical-align: top;\n    }\n\n    .dataframe thead th {\n        text-align: right;\n    }\n</style>\n<table border=\"1\" class=\"dataframe\">\n  <thead>\n    <tr style=\"text-align: right;\">\n      <th></th>\n      <th>timesPregnant</th>\n      <th>plasmaGlucose</th>\n      <th>bloodPressure</th>\n      <th>tricepThickness</th>\n      <th>serumInsulin</th>\n      <th>bmi</th>\n      <th>diabetesPedegree</th>\n      <th>age</th>\n      <th>label</th>\n    </tr>\n  </thead>\n  <tbody>\n    <tr>\n      <th>0</th>\n      <td>6</td>\n      <td>148.0</td>\n      <td>72.0</td>\n      <td>35.0</td>\n      <td>NaN</td>\n      <td>33.6</td>\n      <td>0.627</td>\n      <td>50</td>\n      <td>1</td>\n    </tr>\n    <tr>\n      <th>1</th>\n      <td>1</td>\n      <td>85.0</td>\n      <td>66.0</td>\n      <td>29.0</td>\n      <td>NaN</td>\n      <td>26.6</td>\n      <td>0.351</td>\n      <td>31</td>\n      <td>0</td>\n    </tr>\n    <tr>\n      <th>2</th>\n      <td>8</td>\n      <td>183.0</td>\n      <td>64.0</td>\n      <td>NaN</td>\n      <td>NaN</td>\n      <td>23.3</td>\n      <td>0.672</td>\n      <td>32</td>\n      <td>1</td>\n    </tr>\n    <tr>\n      <th>3</th>\n      <td>1</td>\n      <td>89.0</td>\n      <td>66.0</td>\n      <td>23.0</td>\n      <td>94.0</td>\n      <td>28.1</td>\n      <td>0.167</td>\n      <td>21</td>\n      <td>0</td>\n    </tr>\n    <tr>\n      <th>4</th>\n      <td>0</td>\n      <td>137.0</td>\n      <td>40.0</td>\n      <td>35.0</td>\n      <td>168.0</td>\n      <td>43.1</td>\n      <td>2.288</td>\n      <td>33</td>\n      <td>1</td>\n    </tr>\n    <tr>\n      <th>5</th>\n      <td>5</td>\n      <td>116.0</td>\n      <td>74.0</td>\n      <td>NaN</td>\n      <td>NaN</td>\n      <td>25.6</td>\n      <td>0.201</td>\n      <td>30</td>\n      <td>0</td>\n    </tr>\n    <tr>\n      <th>6</th>\n      <td>3</td>\n      <td>78.0</td>\n      <td>50.0</td>\n      <td>32.0</td>\n      <td>88.0</td>\n      <td>31.0</td>\n      <td>0.248</td>\n      <td>26</td>\n      <td>1</td>\n    </tr>\n    <tr>\n      <th>7</th>\n      <td>10</td>\n      <td>115.0</td>\n      <td>NaN</td>\n      <td>NaN</td>\n      <td>NaN</td>\n      <td>35.3</td>\n      <td>0.134</td>\n      <td>29</td>\n      <td>0</td>\n    </tr>\n    <tr>\n      <th>8</th>\n      <td>2</td>\n      <td>197.0</td>\n      <td>70.0</td>\n      <td>45.0</td>\n      <td>543.0</td>\n      <td>30.5</td>\n      <td>0.158</td>\n      <td>53</td>\n      <td>1</td>\n    </tr>\n    <tr>\n      <th>9</th>\n      <td>8</td>\n      <td>125.0</td>\n      <td>96.0</td>\n      <td>NaN</td>\n      <td>NaN</td>\n      <td>NaN</td>\n      <td>0.232</td>\n      <td>54</td>\n      <td>1</td>\n    </tr>\n    <tr>\n      <th>10</th>\n      <td>4</td>\n      <td>110.0</td>\n      <td>92.0</td>\n      <td>NaN</td>\n      <td>NaN</td>\n      <td>37.6</td>\n      <td>0.191</td>\n      <td>30</td>\n      <td>0</td>\n    </tr>\n    <tr>\n      <th>11</th>\n      <td>10</td>\n      <td>168.0</td>\n      <td>74.0</td>\n      <td>NaN</td>\n      <td>NaN</td>\n      <td>38.0</td>\n      <td>0.537</td>\n      <td>34</td>\n      <td>1</td>\n    </tr>\n    <tr>\n      <th>12</th>\n      <td>10</td>\n      <td>139.0</td>\n      <td>80.0</td>\n      <td>NaN</td>\n      <td>NaN</td>\n      <td>27.1</td>\n      <td>1.441</td>\n      <td>57</td>\n      <td>0</td>\n    </tr>\n    <tr>\n      <th>13</th>\n      <td>1</td>\n      <td>189.0</td>\n      <td>60.0</td>\n      <td>23.0</td>\n      <td>846.0</td>\n      <td>30.1</td>\n      <td>0.398</td>\n      <td>59</td>\n      <td>1</td>\n    </tr>\n    <tr>\n      <th>14</th>\n      <td>5</td>\n      <td>166.0</td>\n      <td>72.0</td>\n      <td>19.0</td>\n      <td>175.0</td>\n      <td>25.8</td>\n      <td>0.587</td>\n      <td>51</td>\n      <td>1</td>\n    </tr>\n    <tr>\n      <th>15</th>\n      <td>7</td>\n      <td>100.0</td>\n      <td>NaN</td>\n      <td>NaN</td>\n      <td>NaN</td>\n      <td>30.0</td>\n      <td>0.484</td>\n      <td>32</td>\n      <td>1</td>\n    </tr>\n    <tr>\n      <th>16</th>\n      <td>0</td>\n      <td>118.0</td>\n      <td>84.0</td>\n      <td>47.0</td>\n      <td>230.0</td>\n      <td>45.8</td>\n      <td>0.551</td>\n      <td>31</td>\n      <td>1</td>\n    </tr>\n    <tr>\n      <th>17</th>\n      <td>7</td>\n      <td>107.0</td>\n      <td>74.0</td>\n      <td>NaN</td>\n      <td>NaN</td>\n      <td>29.6</td>\n      <td>0.254</td>\n      <td>31</td>\n      <td>1</td>\n    </tr>\n    <tr>\n      <th>18</th>\n      <td>1</td>\n      <td>103.0</td>\n      <td>30.0</td>\n      <td>38.0</td>\n      <td>83.0</td>\n      <td>43.3</td>\n      <td>0.183</td>\n      <td>33</td>\n      <td>0</td>\n    </tr>\n    <tr>\n      <th>19</th>\n      <td>1</td>\n      <td>115.0</td>\n      <td>70.0</td>\n      <td>30.0</td>\n      <td>96.0</td>\n      <td>34.6</td>\n      <td>0.529</td>\n      <td>32</td>\n      <td>1</td>\n    </tr>\n  </tbody>\n</table>\n</div>"
     },
     "metadata": {},
     "execution_count": 16
    }
   ],
   "source": [
    "diabetesDF[\"bloodPressure\"] = diabetesDF['bloodPressure'].replace(0,np.nan)\n",
    "diabetesDF[\"plasmaGlucose\"] = diabetesDF['plasmaGlucose'].replace(0,np.nan)\n",
    "diabetesDF[\"tricepThickness\"] = diabetesDF['tricepThickness'].replace(0,np.nan)\n",
    "diabetesDF[\"serumInsulin\"] = diabetesDF['serumInsulin'].replace(0,np.nan)\n",
    "diabetesDF[\"bmi\"] = diabetesDF['bmi'].replace(0,np.nan)\n",
    "diabetesDF.head(20)"
   ]
  },
  {
   "cell_type": "code",
   "execution_count": 20,
   "metadata": {},
   "outputs": [
    {
     "output_type": "execute_result",
     "data": {
      "text/plain": "timesPregnant       111\nplasmaGlucose         0\nbloodPressure         0\ntricepThickness       0\nserumInsulin          0\nbmi                   0\ndiabetesPedegree      0\nage                   0\nlabel               500\ndtype: int64"
     },
     "metadata": {},
     "execution_count": 20
    }
   ],
   "source": [
    "diabetesDF.isin([0]).sum()"
   ]
  },
  {
   "cell_type": "code",
   "execution_count": 29,
   "metadata": {},
   "outputs": [
    {
     "output_type": "execute_result",
     "data": {
      "text/plain": "timesPregnant       768\nplasmaGlucose       763\nbloodPressure       768\ntricepThickness     541\nserumInsulin        394\nbmi                 757\ndiabetesPedegree    768\nage                 768\nlabel               768\ndtype: int64"
     },
     "metadata": {},
     "execution_count": 29
    }
   ],
   "source": [
    "diabetesDF.count()"
   ]
  },
  {
   "cell_type": "code",
   "execution_count": 22,
   "metadata": {},
   "outputs": [
    {
     "output_type": "execute_result",
     "data": {
      "text/plain": "timesPregnant       392\nplasmaGlucose       392\nbloodPressure       392\ntricepThickness     392\nserumInsulin        392\nbmi                 392\ndiabetesPedegree    392\nage                 392\nlabel               392\ndtype: int64"
     },
     "metadata": {},
     "execution_count": 22
    }
   ],
   "source": [
    "cleanedDiabetesDF = diabetesDF.dropna()\n",
    "cleanedDiabetesDF.count()"
   ]
  },
  {
   "cell_type": "code",
   "execution_count": 26,
   "metadata": {},
   "outputs": [],
   "source": [
    "cleanedDiabetesDF.to_hdf(\"/workspace/WorkshopScratchpad/cleaned_pima_indians_diabetes.h5\",\"table\")"
   ]
  },
  {
   "cell_type": "code",
   "execution_count": 30,
   "metadata": {},
   "outputs": [
    {
     "output_type": "execute_result",
     "data": {
      "text/plain": "timesPregnant         0\nplasmaGlucose         5\nbloodPressure         0\ntricepThickness     227\nserumInsulin        374\nbmi                  11\ndiabetesPedegree      0\nage                   0\nlabel                 0\ndtype: int64"
     },
     "metadata": {},
     "execution_count": 30
    }
   ],
   "source": [
    "imputedDiabetesDF = diabetesDF\n",
    "imputedDiabetesDF.isna().sum()"
   ]
  },
  {
   "cell_type": "code",
   "execution_count": 31,
   "metadata": {},
   "outputs": [],
   "source": [
    "imputedDiabetesDF[\"bloodPressure\"] = imputedDiabetesDF[\"bloodPressure\"].fillna(imputedDiabetesDF[\"bloodPressure\"].mean(skipna=True))\n",
    "imputedDiabetesDF[\"plasmaGlucose\"] = imputedDiabetesDF[\"plasmaGlucose\"].fillna(imputedDiabetesDF[\"plasmaGlucose\"].mean(skipna=True))\n",
    "imputedDiabetesDF[\"tricepThickness\"] = imputedDiabetesDF[\"tricepThickness\"].fillna(imputedDiabetesDF[\"tricepThickness\"].mean(skipna=True))\n",
    "imputedDiabetesDF[\"serumInsulin\"] = imputedDiabetesDF[\"serumInsulin\"].fillna(imputedDiabetesDF[\"serumInsulin\"].mean(skipna=True))\n",
    "imputedDiabetesDF[\"bmi\"] = imputedDiabetesDF[\"bmi\"].fillna(imputedDiabetesDF[\"bmi\"].mean(skipna=True))\n"
   ]
  },
  {
   "cell_type": "code",
   "execution_count": 32,
   "metadata": {},
   "outputs": [
    {
     "output_type": "execute_result",
     "data": {
      "text/plain": "timesPregnant       0\nplasmaGlucose       0\nbloodPressure       0\ntricepThickness     0\nserumInsulin        0\nbmi                 0\ndiabetesPedegree    0\nage                 0\nlabel               0\ndtype: int64"
     },
     "metadata": {},
     "execution_count": 32
    }
   ],
   "source": [
    "imputedDiabetesDF.isna().sum()"
   ]
  },
  {
   "cell_type": "code",
   "execution_count": 36,
   "metadata": {
    "tags": []
   },
   "outputs": [],
   "source": [
    "with open(\"/workspace/WorkshopScratchpad/imputed_diabetes.html\", \"x\") as f:\n",
    "    f.write(imputedDiabetesDF.to_html())"
   ]
  },
  {
   "cell_type": "code",
   "execution_count": 39,
   "metadata": {},
   "outputs": [
    {
     "output_type": "error",
     "ename": "OSError",
     "evalue": "\nNo wkhtmltoimage executable found: \"command not found\"\nIf this file exists please check that this process can read it.\nOtherwise please install wkhtmltopdf - http://wkhtmltopdf.org\n\n        ",
     "traceback": [
      "\u001b[0;31m---------------------------------------------------------------------------\u001b[0m",
      "\u001b[0;31mOSError\u001b[0m                                   Traceback (most recent call last)",
      "\u001b[0;32m<ipython-input-39-becc1dc83cfd>\u001b[0m in \u001b[0;36m<module>\u001b[0;34m\u001b[0m\n\u001b[0;32m----> 1\u001b[0;31m \u001b[0mimgkit\u001b[0m\u001b[0;34m.\u001b[0m\u001b[0mfrom_file\u001b[0m\u001b[0;34m(\u001b[0m\u001b[0;34m'/workspace/WorkshopScratchpad/imputed_diabetes.html'\u001b[0m\u001b[0;34m,\u001b[0m \u001b[0;34m'/workspace/WorkshopScratchpad/imputed_diabetes.jpg'\u001b[0m\u001b[0;34m)\u001b[0m\u001b[0;34m\u001b[0m\u001b[0;34m\u001b[0m\u001b[0m\n\u001b[0m",
      "\u001b[0;32m/workspace/.pip-modules/lib/python3.8/site-packages/imgkit/api.py\u001b[0m in \u001b[0;36mfrom_file\u001b[0;34m(filename, output_path, options, toc, cover, css, config, cover_first)\u001b[0m\n\u001b[1;32m     60\u001b[0m     \u001b[0;34m:\u001b[0m\u001b[0;32mreturn\u001b[0m\u001b[0;34m:\u001b[0m \u001b[0;32mTrue\u001b[0m \u001b[0mwhen\u001b[0m \u001b[0msuccess\u001b[0m\u001b[0;34m\u001b[0m\u001b[0;34m\u001b[0m\u001b[0m\n\u001b[1;32m     61\u001b[0m     \"\"\"\n\u001b[0;32m---> 62\u001b[0;31m     rtn = IMGKit(\n\u001b[0m\u001b[1;32m     63\u001b[0m         \u001b[0mfilename\u001b[0m\u001b[0;34m,\u001b[0m\u001b[0;34m\u001b[0m\u001b[0;34m\u001b[0m\u001b[0m\n\u001b[1;32m     64\u001b[0m         \u001b[0;34m\"file\"\u001b[0m\u001b[0;34m,\u001b[0m\u001b[0;34m\u001b[0m\u001b[0;34m\u001b[0m\u001b[0m\n",
      "\u001b[0;32m/workspace/.pip-modules/lib/python3.8/site-packages/imgkit/imgkit.py\u001b[0m in \u001b[0;36m__init__\u001b[0;34m(self, url_or_file, source_type, options, config, **kwargs)\u001b[0m\n\u001b[1;32m     34\u001b[0m         \u001b[0mself\u001b[0m\u001b[0;34m.\u001b[0m\u001b[0msource\u001b[0m \u001b[0;34m=\u001b[0m \u001b[0mSource\u001b[0m\u001b[0;34m(\u001b[0m\u001b[0murl_or_file\u001b[0m\u001b[0;34m,\u001b[0m \u001b[0msource_type\u001b[0m\u001b[0;34m)\u001b[0m\u001b[0;34m\u001b[0m\u001b[0;34m\u001b[0m\u001b[0m\n\u001b[1;32m     35\u001b[0m         \u001b[0mself\u001b[0m\u001b[0;34m.\u001b[0m\u001b[0mconfig\u001b[0m \u001b[0;34m=\u001b[0m \u001b[0mConfig\u001b[0m\u001b[0;34m(\u001b[0m\u001b[0;34m)\u001b[0m \u001b[0;32mif\u001b[0m \u001b[0;32mnot\u001b[0m \u001b[0mconfig\u001b[0m \u001b[0;32melse\u001b[0m \u001b[0mconfig\u001b[0m\u001b[0;34m\u001b[0m\u001b[0;34m\u001b[0m\u001b[0m\n\u001b[0;32m---> 36\u001b[0;31m         \u001b[0mself\u001b[0m\u001b[0;34m.\u001b[0m\u001b[0mwkhtmltoimage\u001b[0m \u001b[0;34m=\u001b[0m \u001b[0mself\u001b[0m\u001b[0;34m.\u001b[0m\u001b[0mconfig\u001b[0m\u001b[0;34m.\u001b[0m\u001b[0mget_wkhtmltoimage\u001b[0m\u001b[0;34m(\u001b[0m\u001b[0;34m)\u001b[0m\u001b[0;34m\u001b[0m\u001b[0;34m\u001b[0m\u001b[0m\n\u001b[0m\u001b[1;32m     37\u001b[0m \u001b[0;34m\u001b[0m\u001b[0m\n\u001b[1;32m     38\u001b[0m         \u001b[0mself\u001b[0m\u001b[0;34m.\u001b[0m\u001b[0moptions\u001b[0m \u001b[0;34m=\u001b[0m \u001b[0;34m{\u001b[0m\u001b[0;34m}\u001b[0m\u001b[0;34m\u001b[0m\u001b[0;34m\u001b[0m\u001b[0m\n",
      "\u001b[0;32m/workspace/.pip-modules/lib/python3.8/site-packages/imgkit/config.py\u001b[0m in \u001b[0;36mget_wkhtmltoimage\u001b[0;34m(self)\u001b[0m\n\u001b[1;32m     55\u001b[0m                 \u001b[0mraise_from\u001b[0m\u001b[0;34m(\u001b[0m\u001b[0mOSError\u001b[0m\u001b[0;34m(\u001b[0m\u001b[0mwkhtmltoimage_error\u001b[0m\u001b[0;34m)\u001b[0m\u001b[0;34m,\u001b[0m \u001b[0mio_error\u001b[0m\u001b[0;34m)\u001b[0m\u001b[0;34m\u001b[0m\u001b[0;34m\u001b[0m\u001b[0m\n\u001b[1;32m     56\u001b[0m         \u001b[0;32melse\u001b[0m\u001b[0;34m:\u001b[0m\u001b[0;34m\u001b[0m\u001b[0;34m\u001b[0m\u001b[0m\n\u001b[0;32m---> 57\u001b[0;31m             \u001b[0;32mraise\u001b[0m \u001b[0mOSError\u001b[0m\u001b[0;34m(\u001b[0m\u001b[0mwkhtmltoimage_error\u001b[0m\u001b[0;34m)\u001b[0m\u001b[0;34m\u001b[0m\u001b[0;34m\u001b[0m\u001b[0m\n\u001b[0m\u001b[1;32m     58\u001b[0m \u001b[0;34m\u001b[0m\u001b[0m\n\u001b[1;32m     59\u001b[0m         \u001b[0;32mreturn\u001b[0m \u001b[0mself\u001b[0m\u001b[0;34m.\u001b[0m\u001b[0mwkhtmltoimage\u001b[0m\u001b[0;34m\u001b[0m\u001b[0;34m\u001b[0m\u001b[0m\n",
      "\u001b[0;31mOSError\u001b[0m: \nNo wkhtmltoimage executable found: \"command not found\"\nIf this file exists please check that this process can read it.\nOtherwise please install wkhtmltopdf - http://wkhtmltopdf.org\n\n        "
     ]
    }
   ],
   "source": [
    "imgkit.from_file('/workspace/WorkshopScratchpad/imputed_diabetes.html', '/workspace/WorkshopScratchpad/imputed_diabetes.jpg')"
   ]
  },
  {
   "cell_type": "code",
   "execution_count": null,
   "metadata": {},
   "outputs": [],
   "source": []
  }
 ]
}